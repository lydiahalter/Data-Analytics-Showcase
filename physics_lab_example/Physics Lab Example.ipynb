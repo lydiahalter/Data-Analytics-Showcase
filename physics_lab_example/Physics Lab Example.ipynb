{
 "cells": [
  {
   "cell_type": "markdown",
   "metadata": {},
   "source": [
    "## Jupyter Notebook for HW09_____________________________    Name_Lydia Halter_"
   ]
  },
  {
   "cell_type": "markdown",
   "metadata": {},
   "source": [
    "This Jupyter Notebook is to be completed as written HW 09. Use text cells to answer questions and code sections to input, fit, and plot data.\n",
    "\n",
    "If you share measurements and/or analysis with other students, please list them here.\n",
    "\n",
    "Note: The data included as example here were collected by Prof Persans using different parameters from the ones you will use."
   ]
  },
  {
   "cell_type": "code",
   "execution_count": 1,
   "metadata": {},
   "outputs": [],
   "source": [
    "# Load the standard set of libraries for basic numerical computing.\n",
    "import numpy as np\n",
    "%matplotlib inline  \n",
    "import matplotlib\n",
    "import matplotlib.pyplot as plt  \n",
    "from matplotlib.pyplot import figure"
   ]
  },
  {
   "cell_type": "markdown",
   "metadata": {},
   "source": [
    "### Collect Data from PHET Simulation\n",
    "</font>\n",
    "<br>\n",
    "Use the PHET app, “geometric-optics.en.jar” to answer the following questions. (You may have to enable Flash in your browser in order to run the app.)\n",
    "\n",
    "Be sure to read all parts a-e to make sure you collect all the data you need. \n",
    "\n",
    "a) Find the focal length of the default lens (r=0.8, n=1.53) “experimentally” by measuring the object and image distances for at least ten measurable object distances. (Use the Ruler function in the app. By measurable, I mean that both object and image distances are shorter than the ruler.) \n",
    "\n",
    "\n",
    "Enter your ten measurement pairs into the Excel spreadsheet supplied in the homework folder.\n",
    "\n"
   ]
  },
  {
   "cell_type": "markdown",
   "metadata": {},
   "source": [
    "You will use pandas to read your spreadsheet!"
   ]
  },
  {
   "cell_type": "code",
   "execution_count": 31,
   "metadata": {},
   "outputs": [],
   "source": [
    "import pandas as pd\n",
    "datafile = pd.read_csv('C:\\\\Users\\\\lydia\\\\OneDrive\\\\Desktop\\\\phys2\\\\ImagingHomework09.csv', sep=',') #put forward slashes when specifying the path\n",
    "measobject = datafile['object'] #the measured object distance in mm\n",
    "measimage = datafile['image'] # the measured image distance\n",
    "invobject=1/measobject\n",
    "invimage=1/measimage\n",
    "totaldist=measobject+measimage"
   ]
  },
  {
   "cell_type": "code",
   "execution_count": 34,
   "metadata": {},
   "outputs": [
    {
     "data": {
      "text/html": [
       "<div>\n",
       "<style scoped>\n",
       "    .dataframe tbody tr th:only-of-type {\n",
       "        vertical-align: middle;\n",
       "    }\n",
       "\n",
       "    .dataframe tbody tr th {\n",
       "        vertical-align: top;\n",
       "    }\n",
       "\n",
       "    .dataframe thead th {\n",
       "        text-align: right;\n",
       "    }\n",
       "</style>\n",
       "<table border=\"1\" class=\"dataframe\">\n",
       "  <thead>\n",
       "    <tr style=\"text-align: right;\">\n",
       "      <th></th>\n",
       "      <th>object</th>\n",
       "      <th>image</th>\n",
       "    </tr>\n",
       "  </thead>\n",
       "  <tbody>\n",
       "    <tr>\n",
       "      <th>0</th>\n",
       "      <td>200</td>\n",
       "      <td>122</td>\n",
       "    </tr>\n",
       "    <tr>\n",
       "      <th>1</th>\n",
       "      <td>190</td>\n",
       "      <td>125</td>\n",
       "    </tr>\n",
       "    <tr>\n",
       "      <th>2</th>\n",
       "      <td>180</td>\n",
       "      <td>130</td>\n",
       "    </tr>\n",
       "    <tr>\n",
       "      <th>3</th>\n",
       "      <td>170</td>\n",
       "      <td>136</td>\n",
       "    </tr>\n",
       "    <tr>\n",
       "      <th>4</th>\n",
       "      <td>160</td>\n",
       "      <td>142</td>\n",
       "    </tr>\n",
       "    <tr>\n",
       "      <th>5</th>\n",
       "      <td>150</td>\n",
       "      <td>152</td>\n",
       "    </tr>\n",
       "    <tr>\n",
       "      <th>6</th>\n",
       "      <td>140</td>\n",
       "      <td>165</td>\n",
       "    </tr>\n",
       "    <tr>\n",
       "      <th>7</th>\n",
       "      <td>130</td>\n",
       "      <td>180</td>\n",
       "    </tr>\n",
       "    <tr>\n",
       "      <th>8</th>\n",
       "      <td>120</td>\n",
       "      <td>204</td>\n",
       "    </tr>\n",
       "    <tr>\n",
       "      <th>9</th>\n",
       "      <td>110</td>\n",
       "      <td>215</td>\n",
       "    </tr>\n",
       "  </tbody>\n",
       "</table>\n",
       "</div>"
      ],
      "text/plain": [
       "   object  image\n",
       "0     200    122\n",
       "1     190    125\n",
       "2     180    130\n",
       "3     170    136\n",
       "4     160    142\n",
       "5     150    152\n",
       "6     140    165\n",
       "7     130    180\n",
       "8     120    204\n",
       "9     110    215"
      ]
     },
     "execution_count": 34,
     "metadata": {},
     "output_type": "execute_result"
    }
   ],
   "source": [
    "# Heres your data!\n",
    "datafile.head(10)"
   ]
  },
  {
   "cell_type": "markdown",
   "metadata": {},
   "source": [
    "---"
   ]
  },
  {
   "cell_type": "markdown",
   "metadata": {},
   "source": [
    "<font color = 'slateblue'>\n",
    "\n",
    "### Orthogonal Distance Regression\n",
    "    \n",
    "</font>\n",
    "<br>\n",
    "This is the fitting tool you will use in PHYS 2350. Most of what is below was adapted from the supplement to Lab 7 written by Zuzanna Jedlinska. \n",
    "\n",
    "You are fitting 1/i as a function of 1/o, so the 1/o=0 intercept is 1/f. This has the advantage over determining 1/f for each 1/o and 1/i pair in that it fits all of the data at once and produces the uncertainty in the fit parameters. \n",
    "\n",
    "The key data for you are the beta fit parameters. B[1] is the y intercept at x=0 (which in this case is 1/f), and B[0] is the slope (which in this case we expect to be 1). The Beta standard error is the uncertainty in the fit parameters. \n",
    "\n",
    "The uncertainty in f is $\\sigma(f) \\approx df/d(1/f) * \\sigma(1/f)=\\sigma(1/f)/(1/f)^2 = f^2*\\sigma(1/f)$. "
   ]
  },
  {
   "cell_type": "code",
   "execution_count": 62,
   "metadata": {},
   "outputs": [
    {
     "name": "stdout",
     "output_type": "stream",
     "text": [
      "Beta: [-300.30065871   -3.06013178]\n",
      "Beta Std Error: [21.56416666  0.14091602]\n",
      "Beta Covariance: [[3.63081755e+09 2.33768559e+07]\n",
      " [2.33768559e+07 1.55045729e+05]]\n",
      "Residual Variance: 1.2807398821157043e-07\n",
      "Inverse Condition #: 2.750300333206699e-06\n",
      "Reason(s) for Halting:\n",
      "  Sum of squares convergence\n",
      "-0.3267833129670625\n"
     ]
    }
   ],
   "source": [
    "import scipy.odr.odrpack as odrpack\n",
    "\n",
    "#choose the function you expect you would get if you interpolated through all your datapoints\n",
    "#ODR will determine your B parameters - it will return an array - Beta - with these parameters\n",
    "def f(B, x):\n",
    "    return B[0]*(x**2) - B[1]*x\n",
    "polynomial = odrpack.Model(f) #the function f is indeed linear - so inform ODR about it and pack it as a model\n",
    "#other models available on the doc page\n",
    "\n",
    "#pack the data\n",
    "data = odrpack.RealData(invobject, invimage) #sx,sy are the standard deviations that will be used to generate weights - passed by name\n",
    "\n",
    "odrpacked = odrpack.ODR(data, polynomial, beta0=[0.011, 4.4698]) #the algorithm needs to start somewhere so pass it some initial B array\n",
    "fitout = odrpacked.run() #run ODR\n",
    "fitout.pprint() #analyze information about the fit\n",
    "coeffs = fitout.beta\n",
    "focalfit=1/coeffs[1]\n",
    "print(focalfit)"
   ]
  },
  {
   "cell_type": "code",
   "execution_count": 65,
   "metadata": {},
   "outputs": [],
   "source": [
    "y2 = f(coeffs, invobject) #plot function using given coefficients"
   ]
  },
  {
   "cell_type": "code",
   "execution_count": 66,
   "metadata": {
    "scrolled": true
   },
   "outputs": [
    {
     "data": {
      "image/png": "[encoded data removed]",
      "text/plain": [
       "<Figure size 1200x600 with 1 Axes>"
      ]
     },
     "metadata": {},
     "output_type": "display_data"
    }
   ],
   "source": [
    "figure(num=None, figsize=(6, 3), dpi=200, facecolor='w', edgecolor='k')\n",
    "plt.scatter(invobject,invimage, s=0.3, label = 'data') #Plot data as points.\n",
    "plt.plot(invobject,y2,alpha=0.7, label='fit') #Plot the fit.\n",
    "plt.legend()\n",
    "plt.show()"
   ]
  },
  {
   "cell_type": "markdown",
   "metadata": {},
   "source": [
    "b) Describe any systematic differences of the data from the fit. If there are any discuss what the origin might be."
   ]
  },
  {
   "cell_type": "markdown",
   "metadata": {},
   "source": [
    "c) Test whether the focal length that you measured is consistent with theory by applying the Lensmaker’s Formula. Compare your calculation with your measurement."
   ]
  },
  {
   "cell_type": "markdown",
   "metadata": {},
   "source": [
    "d) For what object distance is the total distance from object to real image the smallest? (Estimate this by plotting total distance against object distance.) How does this number compare with the focal length.\n"
   ]
  },
  {
   "cell_type": "markdown",
   "metadata": {},
   "source": [
    "e) Use the relationship 1/o+1/i=1/f and some basic calculus to show that o=2f and o+i=4f when o+i=minimum.\n"
   ]
  },
  {
   "cell_type": "markdown",
   "metadata": {},
   "source": [
    "f) Measure the object distance for which the virtual image distance is twice the object distance. How does this measurement compare with a direct calculation using the focal length from the Lensmaker’s Formula?\n"
   ]
  },
  {
   "cell_type": "markdown",
   "metadata": {},
   "source": [
    "Read about the parameters:\n",
    "\n",
    "https://docs.scipy.org/doc/scipy/reference/odr.html\n",
    "\n",
    "https://docs.scipy.org/doc/scipy/reference/generated/scipy.odr.RealData.html#scipy.odr.RealData\n",
    "\n",
    "https://docs.scipy.org/doc/scipy/reference/generated/scipy.odr.Data.html#scipy.odr.Data"
   ]
  },
  {
   "cell_type": "code",
   "execution_count": null,
   "metadata": {},
   "outputs": [],
   "source": []
  }
 ],
 "metadata": {
  "kernelspec": {
   "display_name": "Python 3",
   "language": "python",
   "name": "python3"
  },
  "language_info": {
   "codemirror_mode": {
    "name": "ipython",
    "version": 3
   },
   "file_extension": ".py",
   "mimetype": "text/x-python",
   "name": "python",
   "nbconvert_exporter": "python",
   "pygments_lexer": "ipython3",
   "version": "3.7.6"
  }
 },
 "nbformat": 4,
 "nbformat_minor": 2
}
