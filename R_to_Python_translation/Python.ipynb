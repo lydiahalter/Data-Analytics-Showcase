{
 "cells": [
  {
   "cell_type": "code",
   "execution_count": 1,
   "metadata": {},
   "outputs": [],
   "source": [
    "import numpy as np\n",
    "from pandas.core.frame import DataFrame\n",
    "import scipy.stats as st\n",
    "import math\n",
    "import pandas as pd"
   ]
  },
  {
   "cell_type": "code",
   "execution_count": 4,
   "metadata": {
    "scrolled": true
   },
   "outputs": [
    {
     "name": "stdout",
     "output_type": "stream",
     "text": [
      "Mean = 0\n",
      "Standard deviation = 1\n"
     ]
    }
   ],
   "source": [
    "mean = float(input('Mean = ')) + 1\n",
    "sd_in = float(input('Standard deviation = '))"
   ]
  },
  {
   "cell_type": "code",
   "execution_count": 5,
   "metadata": {},
   "outputs": [],
   "source": [
    "def mean_and_log(year):\n",
    "    sd = sd_in/math.sqrt(year)\n",
    "    d = {}\n",
    "    d['meanlog'] = math.log((mean**2)/math.sqrt(sd**2 + mean**2))\n",
    "    d['sdlog'] = math.sqrt(math.log((sd**2)/(mean**2)+1))\n",
    "    return d"
   ]
  },
  {
   "cell_type": "code",
   "execution_count": 11,
   "metadata": {},
   "outputs": [],
   "source": [
    "def return_mean(year):\n",
    "    d = mean_and_log(year)\n",
    "    return math.exp(d['meanlog'] + 0.5*(d['sdlog']**2)) - 1\n",
    "\n",
    "def return_5(year):\n",
    "    d = mean_and_log(year)\n",
    "    return st.norm.ppf(0.05, d['meanlog'], d['sdlog']) - 1\n",
    "\n",
    "def return_25(year):\n",
    "    d = mean_and_log(year)\n",
    "    return st.norm.ppf(0.25, d['meanlog'], d['sdlog']) - 1\n",
    "\n",
    "def return_median(year):\n",
    "    d = mean_and_log(year)\n",
    "    return st.norm.ppf(0.5, d['meanlog'], d['sdlog']) - 1\n",
    "\n",
    "def return_75(year):\n",
    "    d = mean_and_log(year)\n",
    "    return st.norm.ppf(0.75, d['meanlog'], d['sdlog']) - 1\n",
    "\n",
    "def return_95(year):\n",
    "    d = mean_and_log(year)\n",
    "    return st.norm.ppf(0.95, d['meanlog'], d['sdlog']) - 1"
   ]
  },
  {
   "cell_type": "code",
   "execution_count": 12,
   "metadata": {},
   "outputs": [],
   "source": [
    "col_names = ['years', 'return_5', 'return_25', 'return_median', 'return_mean', 'return_75', 'return_95']\n",
    "OutputDataSet = pd.DataFrame(columns = col_names)"
   ]
  },
  {
   "cell_type": "code",
   "execution_count": 13,
   "metadata": {},
   "outputs": [],
   "source": [
    "i = 1\n",
    "while i <= 20:\n",
    "    data = {}\n",
    "    data['years'] = i\n",
    "    data['return_5'] = return_5(i)\n",
    "    data['return_25'] = return_25(i)\n",
    "    data['return_mean'] = return_mean(i)\n",
    "    data['return_median'] = return_median(i)\n",
    "    data['return_75'] = return_75(i)\n",
    "    data['return_95'] = return_95(i)\n",
    "    \n",
    "    OutputDataSet = OutputDataSet.append(data, ignore_index=True)\n",
    "    i += 1"
   ]
  },
  {
   "cell_type": "code",
   "execution_count": 14,
   "metadata": {},
   "outputs": [
    {
     "name": "stdout",
     "output_type": "stream",
     "text": [
      "    years  return_5  return_25  return_median   return_mean  return_75  \\\n",
      "0       1 -2.716004  -1.908123      -1.346574 -2.220446e-16  -0.785024   \n",
      "1       2 -2.250112  -1.632222      -1.202733  0.000000e+00  -0.773244   \n",
      "2       3 -2.026075  -1.505610      -1.143841 -1.110223e-16  -0.782072   \n",
      "3       4 -1.888569  -1.430188      -1.111572  0.000000e+00  -0.792956   \n",
      "4       5 -1.793499  -1.379162      -1.091161  0.000000e+00  -0.803160   \n",
      "5       6 -1.722878  -1.341894      -1.077075  0.000000e+00  -0.812257   \n",
      "6       7 -1.667827  -1.313237      -1.066766  0.000000e+00  -0.820294   \n",
      "7       8 -1.623398  -1.290373      -1.058892  0.000000e+00  -0.827410   \n",
      "8       9 -1.586588  -1.271615      -1.052680  0.000000e+00  -0.833746   \n",
      "9      10 -1.555460  -1.255886      -1.047655  0.000000e+00  -0.839424   \n",
      "10     11 -1.528700  -1.242465      -1.043506  0.000000e+00  -0.844547   \n",
      "11     12 -1.505380  -1.230847      -1.040021  0.000000e+00  -0.849196   \n",
      "12     13 -1.484829  -1.220669      -1.037054  0.000000e+00  -0.853439   \n",
      "13     14 -1.466542  -1.211661      -1.034496  0.000000e+00  -0.857332   \n",
      "14     15 -1.450135  -1.203620      -1.032269  2.220446e-16  -0.860919   \n",
      "15     16 -1.435309  -1.196386      -1.030312  0.000000e+00  -0.864239   \n",
      "16     17 -1.421828  -1.189835      -1.028579 -1.110223e-16  -0.867323   \n",
      "17     18 -1.409501  -1.183868      -1.027034 -1.110223e-16  -0.870199   \n",
      "18     19 -1.398173  -1.178405      -1.025647  2.220446e-16  -0.872888   \n",
      "19     20 -1.387719  -1.173380      -1.024395 -1.110223e-16  -0.875410   \n",
      "\n",
      "    return_95  \n",
      "0    0.022857  \n",
      "1   -0.155353  \n",
      "2   -0.261607  \n",
      "3   -0.334575  \n",
      "4   -0.388823  \n",
      "5   -0.431272  \n",
      "6   -0.465704  \n",
      "7   -0.494385  \n",
      "8   -0.518773  \n",
      "9   -0.539850  \n",
      "10  -0.558312  \n",
      "11  -0.574662  \n",
      "12  -0.589279  \n",
      "13  -0.602451  \n",
      "14  -0.614404  \n",
      "15  -0.625315  \n",
      "16  -0.635330  \n",
      "17  -0.644566  \n",
      "18  -0.653120  \n",
      "19  -0.661072  \n"
     ]
    }
   ],
   "source": [
    "OutputDataSet['years'] = OutputDataSet['years'].astype(int)\n",
    "print(OutputDataSet)"
   ]
  },
  {
   "cell_type": "code",
   "execution_count": null,
   "metadata": {},
   "outputs": [],
   "source": []
  },
  {
   "cell_type": "code",
   "execution_count": null,
   "metadata": {},
   "outputs": [],
   "source": []
  }
 ],
 "metadata": {
  "kernelspec": {
   "display_name": "Python 3",
   "language": "python",
   "name": "python3"
  },
  "language_info": {
   "codemirror_mode": {
    "name": "ipython",
    "version": 3
   },
   "file_extension": ".py",
   "mimetype": "text/x-python",
   "name": "python",
   "nbconvert_exporter": "python",
   "pygments_lexer": "ipython3",
   "version": "3.7.6"
  }
 },
 "nbformat": 4,
 "nbformat_minor": 4
}
