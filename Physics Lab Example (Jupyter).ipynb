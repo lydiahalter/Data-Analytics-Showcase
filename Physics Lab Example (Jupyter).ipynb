{
 "cells": [
  {
   "cell_type": "markdown",
   "metadata": {},
   "source": [
    "## Jupyter Notebook for HW09_____________________________    Name_"
   ]
  },
  {
   "cell_type": "markdown",
   "metadata": {},
   "source": [
    "This Jupyter Notebook is to be completed as written HW 09. Use text cells to answer questions and code sections to input, fit, and plot data.\n",
    "\n",
    "If you share measurements and/or analysis with other students, please list them here.\n",
    "\n",
    "Note: The data included as example here were collected by Prof Persans using different parameters from the ones you will use."
   ]
  },
  {
   "cell_type": "code",
   "execution_count": 1,
   "metadata": {},
   "outputs": [],
   "source": [
    "# Load the standard set of libraries for basic numerical computing.\n",
    "import numpy as np\n",
    "%matplotlib inline  \n",
    "import matplotlib\n",
    "import matplotlib.pyplot as plt  \n",
    "from matplotlib.pyplot import figure"
   ]
  },
  {
   "cell_type": "markdown",
   "metadata": {},
   "source": [
    "### Collect Data from PHET Simulation\n",
    "</font>\n",
    "<br>\n",
    "Use the PHET app, “geometric-optics.en.jar” to answer the following questions. (You may have to enable Flash in your browser in order to run the app.)\n",
    "\n",
    "Be sure to read all parts a-e to make sure you collect all the data you need. \n",
    "\n",
    "a) Find the focal length of the default lens (r=0.8, n=1.53) “experimentally” by measuring the object and image distances for at least ten measurable object distances. (Use the Ruler function in the app. By measurable, I mean that both object and image distances are shorter than the ruler.) \n",
    "\n",
    "\n",
    "Enter your ten measurement pairs into the Excel spreadsheet supplied in the homework folder.\n",
    "\n"
   ]
  },
  {
   "cell_type": "markdown",
   "metadata": {},
   "source": [
    "You will use pandas to read your spreadsheet!"
   ]
  },
  {
   "cell_type": "code",
   "execution_count": 9,
   "metadata": {},
   "outputs": [],
   "source": [
    "import pandas as pd\n",
    "datafile = pd.read_csv('C:/Users/ppers/Documents/Documents/aa_Classes/Jupyter Quantum Notebooks/PHYS1250/ImagingHomework09.csv', sep=',') #put forward slashes when specifying the path\n",
    "measobject = datafile['object'] #the measured object distance in mm\n",
    "measimage = datafile['image'] # the measured image distance\n",
    "invobject=1/measobject\n",
    "invimage=1/measimage\n",
    "totaldist=measobject+measimage\n"
   ]
  },
  {
   "cell_type": "code",
   "execution_count": 6,
   "metadata": {},
   "outputs": [
    {
     "data": {
      "text/html": [
       "<div>\n",
       "<style scoped>\n",
       "    .dataframe tbody tr th:only-of-type {\n",
       "        vertical-align: middle;\n",
       "    }\n",
       "\n",
       "    .dataframe tbody tr th {\n",
       "        vertical-align: top;\n",
       "    }\n",
       "\n",
       "    .dataframe thead th {\n",
       "        text-align: right;\n",
       "    }\n",
       "</style>\n",
       "<table border=\"1\" class=\"dataframe\">\n",
       "  <thead>\n",
       "    <tr style=\"text-align: right;\">\n",
       "      <th></th>\n",
       "      <th>object</th>\n",
       "      <th>image</th>\n",
       "    </tr>\n",
       "  </thead>\n",
       "  <tbody>\n",
       "    <tr>\n",
       "      <th>0</th>\n",
       "      <td>200</td>\n",
       "      <td>80</td>\n",
       "    </tr>\n",
       "    <tr>\n",
       "      <th>1</th>\n",
       "      <td>166</td>\n",
       "      <td>86</td>\n",
       "    </tr>\n",
       "    <tr>\n",
       "      <th>2</th>\n",
       "      <td>134</td>\n",
       "      <td>100</td>\n",
       "    </tr>\n",
       "    <tr>\n",
       "      <th>3</th>\n",
       "      <td>110</td>\n",
       "      <td>120</td>\n",
       "    </tr>\n",
       "    <tr>\n",
       "      <th>4</th>\n",
       "      <td>120</td>\n",
       "      <td>110</td>\n",
       "    </tr>\n",
       "  </tbody>\n",
       "</table>\n",
       "</div>"
      ],
      "text/plain": [
       "   object  image\n",
       "0     200     80\n",
       "1     166     86\n",
       "2     134    100\n",
       "3     110    120\n",
       "4     120    110"
      ]
     },
     "execution_count": 6,
     "metadata": {},
     "output_type": "execute_result"
    }
   ],
   "source": [
    "# Heres your data!\n",
    "datafile.head()"
   ]
  },
  {
   "cell_type": "markdown",
   "metadata": {},
   "source": [
    "---"
   ]
  },
  {
   "cell_type": "markdown",
   "metadata": {},
   "source": [
    "<font color = 'slateblue'>\n",
    "\n",
    "### Orthogonal Distance Regression\n",
    "    \n",
    "</font>\n",
    "<br>\n",
    "This is the fitting tool you will use in PHYS 2350. Most of what is below was adapted from the supplement to Lab 7 written by Zuzanna Jedlinska. \n",
    "\n",
    "You are fitting 1/i as a function of 1/o, so the 1/o=0 intercept is 1/f. This has the advantage over determining 1/f for each 1/o and 1/i pair in that it fits all of the data at once and produces the uncertainty in the fit parameters. \n",
    "\n",
    "The key data for you are the beta fit parameters. B[1] is the y intercept at x=0 (which in this case is 1/f), and B[0] is the slope (which in this case we expect to be 1). The Beta standard error is the uncertainty in the fit parameters. \n",
    "\n",
    "The uncertainty in f is $\\sigma(f) \\approx df/d(1/f) * \\sigma(1/f)=\\sigma(1/f)/(1/f)^2 = f^2*\\sigma(1/f)$. "
   ]
  },
  {
   "cell_type": "code",
   "execution_count": 17,
   "metadata": {},
   "outputs": [
    {
     "name": "stdout",
     "output_type": "stream",
     "text": [
      "Beta: [-1.03524534  0.01775049]\n",
      "Beta Std Error: [0.01992792 0.00015104]\n",
      "Beta Covariance: [[ 1.58707985e+05 -1.17990594e+03]\n",
      " [-1.17990594e+03  9.11723576e+00]]\n",
      "Residual Variance: 2.50221859643e-09\n",
      "Inverse Condition #: 0.00146625504914\n",
      "Reason(s) for Halting:\n",
      "  Sum of squares convergence\n",
      "56.33647594149303\n"
     ]
    }
   ],
   "source": [
    "import scipy.odr.odrpack as odrpack\n",
    "\n",
    "#choose the function you expect you would get if you interpolated through all your datapoints\n",
    "#ODR will determine your B parameters - it will return an array - Beta - with these parameters\n",
    "def f(B, x):\n",
    "    return B[0]*x + B[1]\n",
    "linear = odrpack.Model(f) #the function f is indeed linear - so inform ODR about it and pack it as a model\n",
    "#other models available on the doc page\n",
    "\n",
    "#pack the data\n",
    "data = odrpack.RealData(invobject, invimage) #sx,sy are the standard deviations that will be used to generate weights - passed by name\n",
    "\n",
    "odrpacked = odrpack.ODR(data, linear, beta0=[1., 2.]) #the algorithm needs to start somewhere so pass it some initial B array\n",
    "fitout = odrpacked.run() #run ODR\n",
    "fitout.pprint() #analyze information about the fit\n",
    "coeffs = fitout.beta\n",
    "focalfit=1/coeffs[1]\n",
    "print(focalfit)"
   ]
  },
  {
   "cell_type": "code",
   "execution_count": 12,
   "metadata": {},
   "outputs": [
    {
     "data": {
      "text/plain": [
       "array([-1.03524534,  0.01775049])"
      ]
     },
     "execution_count": 12,
     "metadata": {},
     "output_type": "execute_result"
    }
   ],
   "source": [
    "y2 = f(coeffs, invobject) #plot function using given coefficients"
   ]
  },
  {
   "cell_type": "code",
   "execution_count": 16,
   "metadata": {},
   "outputs": [
    {
     "data": {
      "image/png": "[encoded data removed]",
      "text/plain": [
       "<Figure size 1200x600 with 1 Axes>"
      ]
     },
     "metadata": {},
     "output_type": "display_data"
    }
   ],
   "source": [
    "figure(num=None, figsize=(6, 3), dpi=200, facecolor='w', edgecolor='k')\n",
    "plt.scatter(invobject,invimage, s=0.3, label = 'data') #Plot data as points.\n",
    "plt.plot(invobject,y2,alpha=0.7, label='fit') #Plot the fit.\n",
    "plt.legend()\n",
    "plt.show()"
   ]
  },
  {
   "cell_type": "markdown",
   "metadata": {},
   "source": [
    "b) Describe any systematic differences of the data from the fit. If there are any discuss what the origin might be."
   ]
  },
  {
   "cell_type": "markdown",
   "metadata": {},
   "source": [
    "c) Test whether the focal length that you measured is consistent with theory by applying the Lensmaker’s Formula. Compare your calculation with your measurement."
   ]
  },
  {
   "cell_type": "markdown",
   "metadata": {},
   "source": [
    "d) For what object distance is the total distance from object to real image the smallest? (Estimate this by plotting total distance against object distance.) How does this number compare with the focal length.\n"
   ]
  },
  {
   "cell_type": "markdown",
   "metadata": {},
   "source": [
    "e) Use the relationship 1/o+1/i=1/f and some basic calculus to show that o=2f and o+i=4f when o+i=minimum.\n"
   ]
  },
  {
   "cell_type": "markdown",
   "metadata": {},
   "source": [
    "f) Measure the object distance for which the virtual image distance is twice the object distance. How does this measurement compare with a direct calculation using the focal length from the Lensmaker’s Formula?\n"
   ]
  },
  {
   "cell_type": "markdown",
   "metadata": {},
   "source": [
    "Read about the parameters:\n",
    "\n",
    "https://docs.scipy.org/doc/scipy/reference/odr.html\n",
    "\n",
    "https://docs.scipy.org/doc/scipy/reference/generated/scipy.odr.RealData.html#scipy.odr.RealData\n",
    "\n",
    "https://docs.scipy.org/doc/scipy/reference/generated/scipy.odr.Data.html#scipy.odr.Data"
   ]
  },
  {
   "cell_type": "code",
   "execution_count": null,
   "metadata": {},
   "outputs": [],
   "source": []
  }
 ],
 "metadata": {
  "kernelspec": {
   "display_name": "Python 2",
   "language": "python",
   "name": "python2"
  },
  "language_info": {
   "codemirror_mode": {
    "name": "ipython",
    "version": 2
   },
   "file_extension": ".py",
   "mimetype": "text/x-python",
   "name": "python",
   "nbconvert_exporter": "python",
   "pygments_lexer": "ipython2",
   "version": "2.7.15"
  }
 },
 "nbformat": 4,
 "nbformat_minor": 2
}
